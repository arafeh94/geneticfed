{
 "nbformat": 4,
 "nbformat_minor": 0,
 "metadata": {
  "colab": {
   "name": "Untitled1.ipynb",
   "version": "0.3.2",
   "provenance": []
  },
  "kernelspec": {
   "display_name": "Python 3",
   "language": "python",
   "name": "python3"
  }
 },
 "cells": [
  {
   "metadata": {
    "id": "C7Ppv-uc9DWM",
    "colab_type": "code",
    "colab": {},
    "ExecuteTime": {
     "end_time": "2024-01-15T03:12:11.200276700Z",
     "start_time": "2024-01-15T03:12:11.159222Z"
    }
   },
   "cell_type": "code",
   "source": [
    "import torch\n",
    "import torch.nn as nn\n",
    "import torch.nn.functional as F\n",
    "from src.apis.ewc2 import ElasticWeightConsolidation"
   ],
   "execution_count": 12,
   "outputs": []
  },
  {
   "metadata": {
    "id": "qe22sCzx9DWQ",
    "colab_type": "code",
    "colab": {},
    "ExecuteTime": {
     "end_time": "2024-01-15T03:12:11.202221900Z",
     "start_time": "2024-01-15T03:12:11.173221700Z"
    }
   },
   "cell_type": "code",
   "source": [
    "from torch.utils.data import Dataset, DataLoader\n",
    "from torchvision import datasets, transforms"
   ],
   "execution_count": 13,
   "outputs": []
  },
  {
   "metadata": {
    "id": "Y_LMkmXG9DWV",
    "colab_type": "code",
    "colab": {},
    "ExecuteTime": {
     "end_time": "2024-01-15T03:12:11.236221900Z",
     "start_time": "2024-01-15T03:12:11.189221600Z"
    }
   },
   "cell_type": "code",
   "source": [
    "mnist_train = datasets.MNIST(\"../data\", train=True, download=True, transform=transforms.ToTensor())\n",
    "mnist_test = datasets.MNIST(\"../data\", train=False, download=True, transform=transforms.ToTensor())\n",
    "train_loader = DataLoader(mnist_train, batch_size = 100, shuffle=True)\n",
    "test_loader = DataLoader(mnist_test, batch_size = 100, shuffle=False)"
   ],
   "execution_count": 14,
   "outputs": []
  },
  {
   "metadata": {
    "id": "YrKlgL6t9zJe",
    "colab_type": "code",
    "colab": {},
    "ExecuteTime": {
     "end_time": "2024-01-15T03:12:11.238221600Z",
     "start_time": "2024-01-15T03:12:11.221222100Z"
    }
   },
   "cell_type": "code",
   "source": [
    "class LinearLayer(nn.Module):\n",
    "    def __init__(self, input_dim, output_dim, act='relu', use_bn=False):\n",
    "        super(LinearLayer, self).__init__()\n",
    "        self.use_bn = use_bn\n",
    "        self.lin = nn.Linear(input_dim, output_dim)\n",
    "        self.act = nn.ReLU() if act == 'relu' else act\n",
    "        if use_bn:\n",
    "            self.bn = nn.BatchNorm1d(output_dim)\n",
    "    def forward(self, x):\n",
    "        if self.use_bn:\n",
    "            return self.bn(self.act(self.lin(x)))\n",
    "        return self.act(self.lin(x))\n",
    "\n",
    "class Flatten(nn.Module):\n",
    "\n",
    "    def forward(self, x):\n",
    "        return x.view(x.shape[0], -1)\n"
   ],
   "execution_count": 15,
   "outputs": []
  },
  {
   "cell_type": "code",
   "execution_count": 15,
   "outputs": [],
   "source": [],
   "metadata": {
    "collapsed": false,
    "ExecuteTime": {
     "end_time": "2024-01-15T03:12:11.257221600Z",
     "start_time": "2024-01-15T03:12:11.236221900Z"
    }
   }
  },
  {
   "metadata": {
    "id": "44d9meQa9DWc",
    "colab_type": "code",
    "colab": {},
    "ExecuteTime": {
     "end_time": "2024-01-15T03:12:11.268222600Z",
     "start_time": "2024-01-15T03:12:11.254221900Z"
    }
   },
   "cell_type": "code",
   "source": [
    "class BaseModel(nn.Module):\n",
    "    \n",
    "    def __init__(self, num_inputs, num_hidden, num_outputs):\n",
    "        super(BaseModel, self).__init__()\n",
    "        self.f1 = Flatten()\n",
    "        self.lin1 = LinearLayer(num_inputs, num_hidden, use_bn=True)\n",
    "        self.lin2 = LinearLayer(num_hidden, num_hidden, use_bn=True)\n",
    "        self.lin3 = nn.Linear(num_hidden, num_outputs)\n",
    "        \n",
    "    def forward(self, x):\n",
    "        return self.lin3(self.lin2(self.lin1(self.f1(x))))"
   ],
   "execution_count": 16,
   "outputs": []
  },
  {
   "metadata": {
    "id": "_17XW9359DWf",
    "colab_type": "code",
    "colab": {},
    "ExecuteTime": {
     "end_time": "2024-01-15T03:12:11.292222100Z",
     "start_time": "2024-01-15T03:12:11.270223Z"
    }
   },
   "cell_type": "code",
   "source": [
    "crit = nn.CrossEntropyLoss()"
   ],
   "execution_count": 17,
   "outputs": []
  },
  {
   "metadata": {
    "id": "SpBrwjk89DWi",
    "colab_type": "code",
    "colab": {},
    "ExecuteTime": {
     "end_time": "2024-01-15T03:12:11.303226Z",
     "start_time": "2024-01-15T03:12:11.283221700Z"
    }
   },
   "cell_type": "code",
   "source": [
    "ewc = ElasticWeightConsolidation(BaseModel(28 * 28, 100, 10), crit=crit, lr=1e-4)"
   ],
   "execution_count": 18,
   "outputs": []
  },
  {
   "metadata": {
    "id": "CMQGk-E19DWl",
    "colab_type": "code",
    "colab": {},
    "ExecuteTime": {
     "end_time": "2024-01-15T03:12:11.315222400Z",
     "start_time": "2024-01-15T03:12:11.300221900Z"
    }
   },
   "cell_type": "code",
   "source": [
    "from tqdm import tqdm"
   ],
   "execution_count": 19,
   "outputs": []
  },
  {
   "metadata": {
    "id": "gmbrFvJm9DWn",
    "colab_type": "code",
    "colab": {
     "base_uri": "https://localhost:8080/",
     "height": 87
    },
    "outputId": "db2ca466-76dc-4d1c-fa32-8dc672a12a8f",
    "ExecuteTime": {
     "end_time": "2024-01-15T03:12:30.088773200Z",
     "start_time": "2024-01-15T03:12:11.314221800Z"
    }
   },
   "cell_type": "code",
   "source": [
    "for _ in range(4):\n",
    "    for input, target in tqdm(train_loader):\n",
    "        ewc.forward_backward_update(input, target)"
   ],
   "execution_count": 20,
   "outputs": [
    {
     "name": "stderr",
     "output_type": "stream",
     "text": [
      "100%|██████████| 600/600 [00:04<00:00, 127.18it/s]\n",
      "100%|██████████| 600/600 [00:04<00:00, 130.52it/s]\n",
      "100%|██████████| 600/600 [00:04<00:00, 125.76it/s]\n",
      "100%|██████████| 600/600 [00:04<00:00, 128.56it/s]\n"
     ]
    }
   ]
  },
  {
   "metadata": {
    "id": "8HwlRJkI9DWt",
    "colab_type": "code",
    "colab": {},
    "ExecuteTime": {
     "end_time": "2024-01-15T03:12:32.239790800Z",
     "start_time": "2024-01-15T03:12:30.087771Z"
    }
   },
   "cell_type": "code",
   "source": [
    "ewc.register_ewc_params(mnist_train, 100, 300)"
   ],
   "execution_count": 21,
   "outputs": []
  },
  {
   "metadata": {
    "id": "NvJW68IB9DWw",
    "colab_type": "code",
    "colab": {},
    "ExecuteTime": {
     "end_time": "2024-01-15T03:13:51.060976300Z",
     "start_time": "2024-01-15T03:12:32.241791300Z"
    }
   },
   "cell_type": "code",
   "source": [
    "f_mnist_train = datasets.FashionMNIST(\"../data\", train=True, download=True, transform=transforms.ToTensor())\n",
    "f_mnist_test = datasets.FashionMNIST(\"../data\", train=False, download=True, transform=transforms.ToTensor())\n",
    "f_train_loader = DataLoader(f_mnist_train, batch_size = 100, shuffle=True)\n",
    "f_test_loader = DataLoader(f_mnist_test, batch_size = 100, shuffle=False)"
   ],
   "execution_count": 22,
   "outputs": [
    {
     "name": "stdout",
     "output_type": "stream",
     "text": [
      "Downloading http://fashion-mnist.s3-website.eu-central-1.amazonaws.com/train-images-idx3-ubyte.gz\n",
      "Downloading http://fashion-mnist.s3-website.eu-central-1.amazonaws.com/train-images-idx3-ubyte.gz to ../data\\FashionMNIST\\raw\\train-images-idx3-ubyte.gz\n"
     ]
    },
    {
     "name": "stderr",
     "output_type": "stream",
     "text": [
      "  4%|▍         | 1146880/26421880 [01:17<28:33, 14749.38it/s]"
     ]
    },
    {
     "name": "stdout",
     "output_type": "stream",
     "text": []
    },
    {
     "name": "stderr",
     "output_type": "stream",
     "text": [
      "\n",
      "\n",
      "KeyboardInterrupt\n",
      "\n"
     ]
    }
   ]
  },
  {
   "metadata": {
    "id": "SzQbVudz9DWy",
    "colab_type": "code",
    "colab": {
     "base_uri": "https://localhost:8080/",
     "height": 87
    },
    "outputId": "bdcb55c5-d40a-4a7a-dca5-4652076e8033",
    "ExecuteTime": {
     "start_time": "2024-01-15T03:13:51.045976400Z"
    }
   },
   "cell_type": "code",
   "source": [
    "for _ in range(4):\n",
    "    for input, target in tqdm(f_train_loader):\n",
    "        ewc.forward_backward_update(input, target)"
   ],
   "execution_count": null,
   "outputs": []
  },
  {
   "metadata": {
    "id": "L8n6PX5w9DW2",
    "colab_type": "code",
    "colab": {},
    "ExecuteTime": {
     "start_time": "2024-01-15T03:13:51.048976900Z"
    }
   },
   "cell_type": "code",
   "source": [
    "ewc.register_ewc_params(f_mnist_train, 100, 300)"
   ],
   "execution_count": null,
   "outputs": []
  },
  {
   "metadata": {
    "id": "fUqvbeO79DW4",
    "colab_type": "code",
    "colab": {},
    "ExecuteTime": {
     "start_time": "2024-01-15T03:13:51.049977Z"
    }
   },
   "cell_type": "code",
   "source": [
    "def accu(model, dataloader):\n",
    "    model = model.eval()\n",
    "    acc = 0\n",
    "    for input, target in dataloader:\n",
    "        o = model(input)\n",
    "        acc += (o.argmax(dim=1).long() == target).float().mean()\n",
    "    return acc / len(dataloader)"
   ],
   "execution_count": null,
   "outputs": []
  },
  {
   "metadata": {
    "id": "aOIOBZhp9DW6",
    "colab_type": "code",
    "colab": {
     "base_uri": "https://localhost:8080/",
     "height": 35
    },
    "outputId": "b260dee2-3c7d-4a9f-be83-8ac412a32f5c",
    "ExecuteTime": {
     "start_time": "2024-01-15T03:13:51.050977Z"
    }
   },
   "cell_type": "code",
   "source": [
    "accu(ewc.model, f_test_loader)"
   ],
   "execution_count": null,
   "outputs": []
  },
  {
   "metadata": {
    "id": "hFdW_33Y9DW-",
    "colab_type": "code",
    "colab": {
     "base_uri": "https://localhost:8080/",
     "height": 35
    },
    "outputId": "38b2dad0-bfb4-48e5-ec01-d848cc8c1593",
    "ExecuteTime": {
     "start_time": "2024-01-15T03:13:51.051976600Z"
    }
   },
   "cell_type": "code",
   "source": [
    "accu(ewc.model, test_loader)"
   ],
   "execution_count": null,
   "outputs": []
  },
  {
   "metadata": {
    "id": "Fkni7xkY-tRI",
    "colab_type": "code",
    "colab": {},
    "ExecuteTime": {
     "start_time": "2024-01-15T03:13:51.053106100Z"
    }
   },
   "cell_type": "code",
   "source": [
    ""
   ],
   "execution_count": null,
   "outputs": []
  }
 ]
}
